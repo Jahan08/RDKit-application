{
  "nbformat": 4,
  "nbformat_minor": 0,
  "metadata": {
    "colab": {
      "provenance": [],
      "authorship_tag": "ABX9TyNyTQowzw43Q1oDJ3X7Pf5s",
      "include_colab_link": true
    },
    "kernelspec": {
      "name": "python3",
      "display_name": "Python 3"
    },
    "language_info": {
      "name": "python"
    }
  },
  "cells": [
    {
      "cell_type": "markdown",
      "metadata": {
        "id": "view-in-github",
        "colab_type": "text"
      },
      "source": [
        "<a href=\"https://colab.research.google.com/github/Jahan08/RDKit-application/blob/main/morgan_fingerprint.ipynb\" target=\"_parent\"><img src=\"https://colab.research.google.com/assets/colab-badge.svg\" alt=\"Open In Colab\"/></a>"
      ]
    },
    {
      "cell_type": "code",
      "execution_count": null,
      "metadata": {
        "id": "2HimfdH0n1k3"
      },
      "outputs": [],
      "source": [
        "import rdkit\n",
        "from rdkit.Chem import AllChem\n",
        "\n",
        "# Load the molecules\n",
        "mols = [rdkit.Chem.MolFromSmiles(smile) for smile in smiles]\n",
        "\n",
        "# Create a Morgan fingerprint\n",
        "fp = AllChem.GetMorganFingerprint(mols, 2, 2)\n",
        "\n",
        "# Save the fingerprint to a DataFrame\n",
        "df = pd.DataFrame(fp, columns=['smiles', 'fp'])\n",
        "\n",
        "# Print the DataFrame\n",
        "print(df)"
      ]
    }
  ]
}